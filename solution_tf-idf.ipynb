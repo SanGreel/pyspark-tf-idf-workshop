{
 "cells": [
  {
   "cell_type": "markdown",
   "metadata": {},
   "source": [
    "### Bag-of-words model\n",
    "\n",
    "\n",
    "https://en.wikipedia.org/wiki/Bag-of-words_model\n",
    "\n",
    "Bag of Words (BoW) is an algorithm that counts how many times a word appears in a document. It’s a tally. Those word counts allow us to compare documents and gauge their similarities for applications like search, document classification and topic modeling. BoW is a also method for preparing text for input in a deep-learning net."
   ]
  },
  {
   "cell_type": "markdown",
   "metadata": {},
   "source": [
    "### TF–IDF\n",
    "\n",
    "https://en.wikipedia.org/wiki/Tf%E2%80%93idf\n",
    "\n",
    "http://blog.christianperone.com/2011/09/machine-learning-text-feature-extraction-tf-idf-part-i/ <br/>\n",
    "http://blog.christianperone.com/2011/10/machine-learning-text-feature-extraction-tf-idf-part-ii/"
   ]
  },
  {
   "cell_type": "code",
   "execution_count": 50,
   "metadata": {},
   "outputs": [],
   "source": [
    "import pyspark\n",
    "from pyspark.sql import *\n",
    "\n",
    "from pyspark.ml.feature import StopWordsRemover\n",
    "from pyspark import SparkConf, SparkContext\n",
    "from pyspark.mllib.feature import HashingTF\n",
    "from pyspark.mllib.feature import IDF\n",
    "from pyspark.ml.feature import HashingTF, IDF, Tokenizer\n",
    "from itertools import islice\n",
    "from pyspark.mllib.feature import Word2Vec\n",
    "\n",
    "from pyspark.sql import SparkSession"
   ]
  },
  {
   "cell_type": "code",
   "execution_count": 7,
   "metadata": {},
   "outputs": [],
   "source": [
    "spark = SparkSession.builder.appName('ops').getOrCreate()"
   ]
  },
  {
   "cell_type": "markdown",
   "metadata": {},
   "source": [
    "#### Load data"
   ]
  },
  {
   "cell_type": "code",
   "execution_count": 36,
   "metadata": {},
   "outputs": [],
   "source": [
    "num_rows_to_show = 20\n",
    "text_file = 'data/listings.csv'"
   ]
  },
  {
   "cell_type": "code",
   "execution_count": 17,
   "metadata": {},
   "outputs": [],
   "source": [
    "df = spark.read.csv(text_file, inferSchema=True, header=True)"
   ]
  },
  {
   "cell_type": "code",
   "execution_count": 18,
   "metadata": {},
   "outputs": [],
   "source": [
    "coprus = df.select(\"id\", \"name\").dropna(subset=\"name\")"
   ]
  },
  {
   "cell_type": "code",
   "execution_count": 37,
   "metadata": {},
   "outputs": [
    {
     "name": "stdout",
     "output_type": "stream",
     "text": [
      "+-----+--------------------------------------------------+\n",
      "|id   |name                                              |\n",
      "+-----+--------------------------------------------------+\n",
      "|2818 |Quiet Garden View Room & Super Fast WiFi          |\n",
      "|20168|100%Centre-Studio 1 Private Floor/Bathroom        |\n",
      "|25428|Lovely apt in City Centre (Jordaan)               |\n",
      "|27886|Romantic, stylish B&B houseboat in canal district |\n",
      "|28658|Cosy guest room near city centre -1               |\n",
      "|28871|Comfortable double room                           |\n",
      "|29051|Comfortable single room                           |\n",
      "|31080|2-story apartment + rooftop terrace               |\n",
      "|38266|Nice and quiet place in the Jordaan               |\n",
      "|41125|Amsterdam Center Entire Apartment                 |\n",
      "|42970|Comfortable room@PERFECT location + 2 bikes       |\n",
      "|43109|Oasis in the middle of Amsterdam                  |\n",
      "|43980|View into park / museum district (long/short stay)|\n",
      "|44129|Luxury design with canal view                     |\n",
      "|44391|Amsterdam Centre, 3-room Apartment                |\n",
      "|46386|Cozy loft in central Amsterdam                    |\n",
      "|47061|Charming apartment in old centre                  |\n",
      "|48076|Amsterdam Central and lot of space                |\n",
      "|50518|Perfect central Amsterdam apartment               |\n",
      "|50523|B & B de 9 Straatjes (city center)                |\n",
      "+-----+--------------------------------------------------+\n",
      "only showing top 20 rows\n",
      "\n"
     ]
    }
   ],
   "source": [
    "coprus.show(num_rows_to_show, False)"
   ]
  },
  {
   "cell_type": "code",
   "execution_count": 38,
   "metadata": {},
   "outputs": [
    {
     "data": {
      "text/plain": [
       "19439"
      ]
     },
     "execution_count": 38,
     "metadata": {},
     "output_type": "execute_result"
    }
   ],
   "source": [
    "number_of_docs = coprus.count()\n",
    "number_of_docs"
   ]
  },
  {
   "cell_type": "markdown",
   "metadata": {},
   "source": [
    "#### Tokenization"
   ]
  },
  {
   "cell_type": "code",
   "execution_count": 47,
   "metadata": {},
   "outputs": [],
   "source": [
    "tokenizer = Tokenizer(inputCol=\"name\", outputCol=\"raw_words\")\n",
    "wordsData = tokenizer.transform(coprus)"
   ]
  },
  {
   "cell_type": "code",
   "execution_count": 48,
   "metadata": {
    "scrolled": true
   },
   "outputs": [
    {
     "name": "stdout",
     "output_type": "stream",
     "text": [
      "+-----+--------------------------------------------------+-----------------------------------------------------------+\n",
      "|id   |name                                              |raw_words                                                  |\n",
      "+-----+--------------------------------------------------+-----------------------------------------------------------+\n",
      "|2818 |Quiet Garden View Room & Super Fast WiFi          |[quiet, garden, view, room, &, super, fast, wifi]          |\n",
      "|20168|100%Centre-Studio 1 Private Floor/Bathroom        |[100%centre-studio, 1, private, floor/bathroom]            |\n",
      "|25428|Lovely apt in City Centre (Jordaan)               |[lovely, apt, in, city, centre, (jordaan)]                 |\n",
      "|27886|Romantic, stylish B&B houseboat in canal district |[romantic,, stylish, b&b, houseboat, in, canal, district]  |\n",
      "|28658|Cosy guest room near city centre -1               |[cosy, guest, room, near, city, centre, -1]                |\n",
      "|28871|Comfortable double room                           |[comfortable, double, room]                                |\n",
      "|29051|Comfortable single room                           |[comfortable, single, room]                                |\n",
      "|31080|2-story apartment + rooftop terrace               |[2-story, apartment, +, rooftop, terrace]                  |\n",
      "|38266|Nice and quiet place in the Jordaan               |[nice, and, quiet, place, in, the, jordaan]                |\n",
      "|41125|Amsterdam Center Entire Apartment                 |[amsterdam, center, entire, apartment]                     |\n",
      "|42970|Comfortable room@PERFECT location + 2 bikes       |[comfortable, room@perfect, location, +, 2, bikes]         |\n",
      "|43109|Oasis in the middle of Amsterdam                  |[oasis, in, the, middle, of, amsterdam]                    |\n",
      "|43980|View into park / museum district (long/short stay)|[view, into, park, /, museum, district, (long/short, stay)]|\n",
      "|44129|Luxury design with canal view                     |[luxury, design, with, canal, view]                        |\n",
      "|44391|Amsterdam Centre, 3-room Apartment                |[amsterdam, centre,, 3-room, apartment]                    |\n",
      "|46386|Cozy loft in central Amsterdam                    |[cozy, loft, in, central, amsterdam]                       |\n",
      "|47061|Charming apartment in old centre                  |[charming, apartment, in, old, centre]                     |\n",
      "|48076|Amsterdam Central and lot of space                |[amsterdam, central, and, lot, of, space]                  |\n",
      "|50518|Perfect central Amsterdam apartment               |[perfect, central, amsterdam, apartment]                   |\n",
      "|50523|B & B de 9 Straatjes (city center)                |[b, &, b, de, 9, straatjes, (city, center)]                |\n",
      "+-----+--------------------------------------------------+-----------------------------------------------------------+\n",
      "only showing top 20 rows\n",
      "\n"
     ]
    }
   ],
   "source": [
    "wordsData.show(num_rows_to_show, False)"
   ]
  },
  {
   "cell_type": "markdown",
   "metadata": {},
   "source": [
    "#### Remov stop words"
   ]
  },
  {
   "cell_type": "code",
   "execution_count": 54,
   "metadata": {},
   "outputs": [],
   "source": [
    "locale = spark._jvm.java.util.Locale\n",
    "locale.setDefault(locale.forLanguageTag(\"en-US\"))"
   ]
  },
  {
   "cell_type": "code",
   "execution_count": 57,
   "metadata": {},
   "outputs": [],
   "source": [
    "StopWordsRemover.loadDefaultStopWords(\"english\")\n",
    "\n",
    "remover = StopWordsRemover(inputCol=\"raw_words\", outputCol=\"words\")\n",
    "wordsData = remover.transform(wordsData)"
   ]
  },
  {
   "cell_type": "code",
   "execution_count": 58,
   "metadata": {},
   "outputs": [
    {
     "name": "stdout",
     "output_type": "stream",
     "text": [
      "+-----+--------------------------------------------------+-----------------------------------------------------------+-----------------------------------------------------+\n",
      "|id   |name                                              |raw_words                                                  |words                                                |\n",
      "+-----+--------------------------------------------------+-----------------------------------------------------------+-----------------------------------------------------+\n",
      "|2818 |Quiet Garden View Room & Super Fast WiFi          |[quiet, garden, view, room, &, super, fast, wifi]          |[quiet, garden, view, room, &, super, fast, wifi]    |\n",
      "|20168|100%Centre-Studio 1 Private Floor/Bathroom        |[100%centre-studio, 1, private, floor/bathroom]            |[100%centre-studio, 1, private, floor/bathroom]      |\n",
      "|25428|Lovely apt in City Centre (Jordaan)               |[lovely, apt, in, city, centre, (jordaan)]                 |[lovely, apt, city, centre, (jordaan)]               |\n",
      "|27886|Romantic, stylish B&B houseboat in canal district |[romantic,, stylish, b&b, houseboat, in, canal, district]  |[romantic,, stylish, b&b, houseboat, canal, district]|\n",
      "|28658|Cosy guest room near city centre -1               |[cosy, guest, room, near, city, centre, -1]                |[cosy, guest, room, near, city, centre, -1]          |\n",
      "|28871|Comfortable double room                           |[comfortable, double, room]                                |[comfortable, double, room]                          |\n",
      "|29051|Comfortable single room                           |[comfortable, single, room]                                |[comfortable, single, room]                          |\n",
      "|31080|2-story apartment + rooftop terrace               |[2-story, apartment, +, rooftop, terrace]                  |[2-story, apartment, +, rooftop, terrace]            |\n",
      "|38266|Nice and quiet place in the Jordaan               |[nice, and, quiet, place, in, the, jordaan]                |[nice, quiet, place, jordaan]                        |\n",
      "|41125|Amsterdam Center Entire Apartment                 |[amsterdam, center, entire, apartment]                     |[amsterdam, center, entire, apartment]               |\n",
      "|42970|Comfortable room@PERFECT location + 2 bikes       |[comfortable, room@perfect, location, +, 2, bikes]         |[comfortable, room@perfect, location, +, 2, bikes]   |\n",
      "|43109|Oasis in the middle of Amsterdam                  |[oasis, in, the, middle, of, amsterdam]                    |[oasis, middle, amsterdam]                           |\n",
      "|43980|View into park / museum district (long/short stay)|[view, into, park, /, museum, district, (long/short, stay)]|[view, park, /, museum, district, (long/short, stay)]|\n",
      "|44129|Luxury design with canal view                     |[luxury, design, with, canal, view]                        |[luxury, design, canal, view]                        |\n",
      "|44391|Amsterdam Centre, 3-room Apartment                |[amsterdam, centre,, 3-room, apartment]                    |[amsterdam, centre,, 3-room, apartment]              |\n",
      "|46386|Cozy loft in central Amsterdam                    |[cozy, loft, in, central, amsterdam]                       |[cozy, loft, central, amsterdam]                     |\n",
      "|47061|Charming apartment in old centre                  |[charming, apartment, in, old, centre]                     |[charming, apartment, old, centre]                   |\n",
      "|48076|Amsterdam Central and lot of space                |[amsterdam, central, and, lot, of, space]                  |[amsterdam, central, lot, space]                     |\n",
      "|50518|Perfect central Amsterdam apartment               |[perfect, central, amsterdam, apartment]                   |[perfect, central, amsterdam, apartment]             |\n",
      "|50523|B & B de 9 Straatjes (city center)                |[b, &, b, de, 9, straatjes, (city, center)]                |[b, &, b, de, 9, straatjes, (city, center)]          |\n",
      "+-----+--------------------------------------------------+-----------------------------------------------------------+-----------------------------------------------------+\n",
      "only showing top 20 rows\n",
      "\n"
     ]
    }
   ],
   "source": [
    "wordsData.show(num_rows_to_show, False)"
   ]
  },
  {
   "cell_type": "markdown",
   "metadata": {},
   "source": [
    "#### Hashing"
   ]
  },
  {
   "cell_type": "code",
   "execution_count": 63,
   "metadata": {},
   "outputs": [],
   "source": [
    "hashingTF = HashingTF(inputCol=\"words\", outputCol=\"rawFeatures\", numFeatures=10000)\n",
    "featurizedData = hashingTF.transform(wordsData)"
   ]
  },
  {
   "cell_type": "code",
   "execution_count": 65,
   "metadata": {},
   "outputs": [
    {
     "name": "stdout",
     "output_type": "stream",
     "text": [
      "+-----+--------------------------------------------------+-----------------------------------------------------------+-----------------------------------------------------+----------------------------------------------------------------------------------+\n",
      "|id   |name                                              |raw_words                                                  |words                                                |rawFeatures                                                                       |\n",
      "+-----+--------------------------------------------------+-----------------------------------------------------------+-----------------------------------------------------+----------------------------------------------------------------------------------+\n",
      "|2818 |Quiet Garden View Room & Super Fast WiFi          |[quiet, garden, view, room, &, super, fast, wifi]          |[quiet, garden, view, room, &, super, fast, wifi]    |(10000,[494,1692,1789,2659,7293,8048,8562,9263],[1.0,1.0,1.0,1.0,1.0,1.0,1.0,1.0])|\n",
      "|20168|100%Centre-Studio 1 Private Floor/Bathroom        |[100%centre-studio, 1, private, floor/bathroom]            |[100%centre-studio, 1, private, floor/bathroom]      |(10000,[4235,4744,8704,9743],[1.0,1.0,1.0,1.0])                                   |\n",
      "|25428|Lovely apt in City Centre (Jordaan)               |[lovely, apt, in, city, centre, (jordaan)]                 |[lovely, apt, city, centre, (jordaan)]               |(10000,[2184,2707,3009,5495,7228],[1.0,1.0,1.0,1.0,1.0])                          |\n",
      "|27886|Romantic, stylish B&B houseboat in canal district |[romantic,, stylish, b&b, houseboat, in, canal, district]  |[romantic,, stylish, b&b, houseboat, canal, district]|(10000,[2491,5335,8081,8451,9039,9704],[1.0,1.0,1.0,1.0,1.0,1.0])                 |\n",
      "|28658|Cosy guest room near city centre -1               |[cosy, guest, room, near, city, centre, -1]                |[cosy, guest, room, near, city, centre, -1]          |(10000,[494,1345,2707,3322,5495,5974,9807],[1.0,1.0,1.0,1.0,1.0,1.0,1.0])         |\n",
      "|28871|Comfortable double room                           |[comfortable, double, room]                                |[comfortable, double, room]                          |(10000,[494,3100,9161],[1.0,1.0,1.0])                                             |\n",
      "|29051|Comfortable single room                           |[comfortable, single, room]                                |[comfortable, single, room]                          |(10000,[494,4531,9161],[1.0,1.0,1.0])                                             |\n",
      "|31080|2-story apartment + rooftop terrace               |[2-story, apartment, +, rooftop, terrace]                  |[2-story, apartment, +, rooftop, terrace]            |(10000,[892,1372,1928,5080,5431],[1.0,1.0,1.0,1.0,1.0])                           |\n",
      "|38266|Nice and quiet place in the Jordaan               |[nice, and, quiet, place, in, the, jordaan]                |[nice, quiet, place, jordaan]                        |(10000,[1789,3370,8191,9718],[1.0,1.0,1.0,1.0])                                   |\n",
      "|41125|Amsterdam Center Entire Apartment                 |[amsterdam, center, entire, apartment]                     |[amsterdam, center, entire, apartment]               |(10000,[828,1372,1511,7173],[1.0,1.0,1.0,1.0])                                    |\n",
      "|42970|Comfortable room@PERFECT location + 2 bikes       |[comfortable, room@perfect, location, +, 2, bikes]         |[comfortable, room@perfect, location, +, 2, bikes]   |(10000,[923,1741,5431,7209,7989,9161],[1.0,1.0,1.0,1.0,1.0,1.0])                  |\n",
      "|43109|Oasis in the middle of Amsterdam                  |[oasis, in, the, middle, of, amsterdam]                    |[oasis, middle, amsterdam]                           |(10000,[828,5142,6815],[1.0,1.0,1.0])                                             |\n",
      "|43980|View into park / museum district (long/short stay)|[view, into, park, /, museum, district, (long/short, stay)]|[view, park, /, museum, district, (long/short, stay)]|(10000,[2628,6367,7293,8107,8451,9234,9348],[1.0,1.0,1.0,1.0,1.0,1.0,1.0])        |\n",
      "|44129|Luxury design with canal view                     |[luxury, design, with, canal, view]                        |[luxury, design, canal, view]                        |(10000,[5189,5224,7293,9704],[1.0,1.0,1.0,1.0])                                   |\n",
      "|44391|Amsterdam Centre, 3-room Apartment                |[amsterdam, centre,, 3-room, apartment]                    |[amsterdam, centre,, 3-room, apartment]              |(10000,[828,1372,1956,7843],[1.0,1.0,1.0,1.0])                                    |\n",
      "|46386|Cozy loft in central Amsterdam                    |[cozy, loft, in, central, amsterdam]                       |[cozy, loft, central, amsterdam]                     |(10000,[828,2062,2951,7227],[1.0,1.0,1.0,1.0])                                    |\n",
      "|47061|Charming apartment in old centre                  |[charming, apartment, in, old, centre]                     |[charming, apartment, old, centre]                   |(10000,[1372,2707,7672,8572],[1.0,1.0,1.0,1.0])                                   |\n",
      "|48076|Amsterdam Central and lot of space                |[amsterdam, central, and, lot, of, space]                  |[amsterdam, central, lot, space]                     |(10000,[828,2062,5735,6207],[1.0,1.0,1.0,1.0])                                    |\n",
      "|50518|Perfect central Amsterdam apartment               |[perfect, central, amsterdam, apartment]                   |[perfect, central, amsterdam, apartment]             |(10000,[828,1372,2062,8813],[1.0,1.0,1.0,1.0])                                    |\n",
      "|50523|B & B de 9 Straatjes (city center)                |[b, &, b, de, 9, straatjes, (city, center)]                |[b, &, b, de, 9, straatjes, (city, center)]          |(10000,[1139,1161,1361,3281,6245,8562,9155],[1.0,1.0,2.0,1.0,1.0,1.0,1.0])        |\n",
      "+-----+--------------------------------------------------+-----------------------------------------------------------+-----------------------------------------------------+----------------------------------------------------------------------------------+\n",
      "only showing top 20 rows\n",
      "\n"
     ]
    }
   ],
   "source": [
    "featurizedData.show(num_rows_to_show, False)"
   ]
  },
  {
   "cell_type": "markdown",
   "metadata": {},
   "source": [
    "#### IDF"
   ]
  },
  {
   "cell_type": "code",
   "execution_count": 149,
   "metadata": {},
   "outputs": [],
   "source": [
    "idf = IDF(inputCol=\"rawFeatures\", outputCol=\"features\", minDocFreq=1)\n",
    "idfModel = idf.fit(featurizedData)"
   ]
  },
  {
   "cell_type": "code",
   "execution_count": 150,
   "metadata": {},
   "outputs": [],
   "source": [
    "tfidf = idfModel.transform(featurizedData)"
   ]
  },
  {
   "cell_type": "code",
   "execution_count": 152,
   "metadata": {},
   "outputs": [],
   "source": [
    "results = idfModel.transform(featurizedData)"
   ]
  },
  {
   "cell_type": "code",
   "execution_count": 158,
   "metadata": {},
   "outputs": [
    {
     "name": "stdout",
     "output_type": "stream",
     "text": [
      "+-----------------------------------------------------+----------------------------------------------------------------------------------------------------------------------------------------------------------------------------------------------------+\n",
      "|words                                                |features                                                                                                                                                                                            |\n",
      "+-----------------------------------------------------+----------------------------------------------------------------------------------------------------------------------------------------------------------------------------------------------------+\n",
      "|[quiet, garden, view, room, &, super, fast, wifi]    |(10000,[494,1692,1789,2659,7293,8048,8562,9263],[2.445567235227968,2.8094747144167127,3.6888794541139363,5.2799682278798405,3.247046701834897,5.983267779903803,2.46837734783679,8.083328608786376])|\n",
      "|[100%centre-studio, 1, private, floor/bathroom]      |(10000,[4235,4744,8704,9743],[7.102499355774649,4.745189363091357,2.909063890908317,8.776475789346321])                                                                                             |\n",
      "|[lovely, apt, city, centre, (jordaan)]               |(10000,[2184,2707,3009,5495,7228],[6.930649098847989,2.506748391703049,3.2752175788015934,2.2903150004022312,3.0144244065661434])                                                                   |\n",
      "|[romantic,, stylish, b&b, houseboat, canal, district]|(10000,[2491,5335,8081,8451,9039,9704],[5.2116489839023625,7.572502985020384,3.7013019741124933,4.857808241199506,3.9945550916137296,2.959364629383116])                                            |\n",
      "|[cosy, guest, room, near, city, centre, -1]          |(10000,[494,1345,2707,3322,5495,5974,9807],[2.445567235227968,6.29156913955832,2.506748391703049,2.7449895678888523,2.2903150004022312,2.470200502398305,7.102499355774649])                        |\n",
      "|[comfortable, double, room]                          |(10000,[494,3100,9161],[2.445567235227968,4.745189363091357,3.842001856215629])                                                                                                                     |\n",
      "|[comfortable, single, room]                          |(10000,[494,4531,9161],[2.445567235227968,6.319740016525016,3.842001856215629])                                                                                                                     |\n",
      "|[2-story, apartment, +, rooftop, terrace]            |(10000,[892,1372,1928,5080,5431],[8.083328608786376,0.9940854537588608,3.5069008916639377,4.373829867469703,3.759195952531396])                                                                     |\n",
      "|[nice, quiet, place, jordaan]                        |(10000,[1789,3370,8191,9718],[3.6888794541139363,3.4502190541090423,4.322128493092813,3.561540031737335])                                                                                           |\n",
      "|[amsterdam, center, entire, apartment]               |(10000,[828,1372,1511,7173],[1.582289219814055,0.9940854537588608,6.003887067106539,2.7212542764355874])                                                                                            |\n",
      "|[comfortable, room@perfect, location, +, 2, bikes]   |(10000,[923,1741,5431,7209,7989,9161],[9.181940897454485,3.8066624897703196,3.759195952531396,5.121497886908065,2.8978067363836826,3.842001856215629])                                              |\n",
      "|[oasis, middle, amsterdam]                           |(10000,[828,5142,6815],[1.582289219814055,5.904796164462308,6.348727553398269])                                                                                                                     |\n",
      "|[view, park, /, museum, district, (long/short, stay)]|(10000,[2628,6367,7293,8107,8451,9234,9348],[4.687702272173675,7.3901814282264295,3.247046701834897,5.731953351622898,4.857808241199506,4.787491742782046,7.572502985020384])                       |\n",
      "|[luxury, design, canal, view]                        |(10000,[5189,5224,7293,9704],[4.322128493092813,3.8861266611245666,3.247046701834897,2.959364629383116])                                                                                            |\n",
      "|[amsterdam, centre,, 3-room, apartment]              |(10000,[828,1372,1956,7843],[1.582289219814055,0.9940854537588608,7.16703787691222,6.186208623900494])                                                                                              |\n",
      "|[cozy, loft, central, amsterdam]                     |(10000,[828,2062,2951,7227],[1.582289219814055,3.3240077429710255,2.803514713802898,3.972454744613064])                                                                                             |\n",
      "|[charming, apartment, old, centre]                   |(10000,[1372,2707,7672,8572],[0.9940854537588608,2.506748391703049,4.687702272173675,3.8936738667599498])                                                                                           |\n",
      "|[amsterdam, central, lot, space]                     |(10000,[828,2062,5735,6207],[1.582289219814055,3.3240077429710255,8.48879371689454,5.886104031450156])                                                                                              |\n",
      "|[perfect, central, amsterdam, apartment]             |(10000,[828,1372,2062,8813],[1.582289219814055,0.9940854537588608,3.3240077429710255,4.167977813265554])                                                                                            |\n",
      "|[b, &, b, de, 9, straatjes, (city, center)]          |(10000,[1139,1161,1361,3281,6245,8562,9155],[6.542883567839226,8.265650165580329,15.145005970040769,3.5597300764920954,6.830565640291007,2.46837734783679,7.47719280521606])                        |\n",
      "+-----------------------------------------------------+----------------------------------------------------------------------------------------------------------------------------------------------------------------------------------------------------+\n",
      "only showing top 20 rows\n",
      "\n"
     ]
    }
   ],
   "source": [
    "results.select(\"words\", \"features\").show(num_rows_to_show, False)"
   ]
  },
  {
   "cell_type": "code",
   "execution_count": null,
   "metadata": {},
   "outputs": [],
   "source": []
  },
  {
   "cell_type": "code",
   "execution_count": null,
   "metadata": {},
   "outputs": [],
   "source": []
  },
  {
   "cell_type": "code",
   "execution_count": 151,
   "metadata": {},
   "outputs": [],
   "source": [
    "# keyword = \"central\"\n",
    "# keywordDF = spark.createDataFrame([\n",
    "#     (0, [keyword])\n",
    "# ], [\"id\", \"words\"])\n",
    "\n",
    "\n",
    "# keywordTF = hashingTF.transform(keywordDF)\n",
    "\n",
    "\n",
    "# keywordHashValue = int(keywordTF.collect()[0][\"rawFeatures\"].indices[0])\n",
    "\n",
    "# keywordRelevance = tfidf.rdd.map(lambda features: features[keywordHashValue])\n",
    "# zippedResults = keywordRelevance.zip(documentId)"
   ]
  }
 ],
 "metadata": {
  "kernelspec": {
   "display_name": "Python 3",
   "language": "python",
   "name": "python3"
  },
  "language_info": {
   "codemirror_mode": {
    "name": "ipython",
    "version": 3
   },
   "file_extension": ".py",
   "mimetype": "text/x-python",
   "name": "python",
   "nbconvert_exporter": "python",
   "pygments_lexer": "ipython3",
   "version": "3.6.7"
  }
 },
 "nbformat": 4,
 "nbformat_minor": 2
}
